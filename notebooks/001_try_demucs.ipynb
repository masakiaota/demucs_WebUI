{
 "cells": [
  {
   "cell_type": "code",
   "execution_count": null,
   "metadata": {
    "tags": []
   },
   "outputs": [],
   "source": [
    "from multiprocessing import cpu_count\n",
    "import subprocess\n",
    "from pathlib import Path\n",
    "from IPython.display import Audio\n",
    "import demucs.separate"
   ]
  },
  {
   "cell_type": "code",
   "execution_count": null,
   "metadata": {
    "tags": []
   },
   "outputs": [],
   "source": [
    "song_path=Path('../data/shining_star_shortest.mp3')\n",
    "Audio(song_path)"
   ]
  },
  {
   "cell_type": "code",
   "execution_count": null,
   "metadata": {
    "tags": []
   },
   "outputs": [],
   "source": [
    "song_path.resolve().as_posix()"
   ]
  },
  {
   "cell_type": "code",
   "execution_count": null,
   "metadata": {},
   "outputs": [],
   "source": []
  },
  {
   "cell_type": "code",
   "execution_count": null,
   "metadata": {
    "tags": []
   },
   "outputs": [],
   "source": [
    "class CFG:\n",
    "    song_name = song_path.stem\n",
    "    input_file = song_path.resolve().as_posix() #path traversalされそうな気がするがどうしたら\n",
    "    output_dir = \"../outputs/\"\n",
    "    model = \"htdemucs\"\n",
    "    cpu_count = cpu_count()\n",
    "\n",
    "cfg = CFG()"
   ]
  },
  {
   "cell_type": "markdown",
   "metadata": {},
   "source": [
    "### 分離"
   ]
  },
  {
   "cell_type": "code",
   "execution_count": null,
   "metadata": {
    "tags": []
   },
   "outputs": [],
   "source": [
    "cmd=[\"demucs\", \n",
    "     \"-j\", str(cfg.cpu_count//2),\n",
    "     \"-n\", cfg.model,\n",
    "     \"--overlap\", \"0.1\",\n",
    "     # \"--two-stems\",\"vocals\",\n",
    "     \"--clip-mode\", \"clamp\",\n",
    "     \"--mp3\",\n",
    "     \"--mp3-bitrate\", \"192\",\n",
    "     \"-o\", cfg.output_dir,\n",
    "     cfg.input_file]\n",
    "cmd"
   ]
  },
  {
   "cell_type": "code",
   "execution_count": null,
   "metadata": {},
   "outputs": [],
   "source": [
    "subprocess.run(cmd)"
   ]
  },
  {
   "cell_type": "code",
   "execution_count": null,
   "metadata": {
    "tags": []
   },
   "outputs": [],
   "source": [
    "cmd=[\n",
    "     \"-j\", str(cfg.cpu_count//2),\n",
    "     \"-n\", cfg.model,\n",
    "     \"--overlap\", \"0.1\",\n",
    "     # \"--two-stems\",\"vocals\",\n",
    "     \"--clip-mode\", \"clamp\",\n",
    "     \"--mp3\",\n",
    "     \"--mp3-bitrate\", \"192\",\n",
    "     \"-o\", cfg.output_dir,\n",
    "     cfg.input_file]\n",
    "cmd"
   ]
  },
  {
   "cell_type": "code",
   "execution_count": null,
   "metadata": {
    "tags": []
   },
   "outputs": [],
   "source": [
    "demucs.separate.main(opts=cmd)"
   ]
  },
  {
   "cell_type": "code",
   "execution_count": null,
   "metadata": {},
   "outputs": [],
   "source": []
  },
  {
   "cell_type": "code",
   "execution_count": null,
   "metadata": {},
   "outputs": [],
   "source": []
  },
  {
   "cell_type": "markdown",
   "metadata": {},
   "source": [
    "### 読み込み"
   ]
  },
  {
   "cell_type": "code",
   "execution_count": null,
   "metadata": {
    "tags": []
   },
   "outputs": [],
   "source": [
    "separated_filename=['vocals', 'bass', 'drums', 'other']"
   ]
  },
  {
   "cell_type": "code",
   "execution_count": null,
   "metadata": {},
   "outputs": [],
   "source": [
    "separated_filepath=[]\n",
    "for f in separated_filename:\n",
    "    separated_filepath.append(Path(cfg.output_dir)/cfg.model/cfg.song_name/(f+\".mp3\"))"
   ]
  },
  {
   "cell_type": "code",
   "execution_count": null,
   "metadata": {
    "tags": []
   },
   "outputs": [],
   "source": [
    "separated_filepath"
   ]
  },
  {
   "cell_type": "code",
   "execution_count": null,
   "metadata": {
    "tags": []
   },
   "outputs": [],
   "source": [
    "for f in separated_filepath:\n",
    "    print(f.stem)\n",
    "    display(Audio(f))"
   ]
  },
  {
   "cell_type": "code",
   "execution_count": null,
   "metadata": {},
   "outputs": [],
   "source": []
  }
 ],
 "metadata": {
  "kernelspec": {
   "display_name": "Python 3 (ipykernel)",
   "language": "python",
   "name": "python3"
  },
  "language_info": {
   "codemirror_mode": {
    "name": "ipython",
    "version": 3
   },
   "file_extension": ".py",
   "mimetype": "text/x-python",
   "name": "python",
   "nbconvert_exporter": "python",
   "pygments_lexer": "ipython3",
   "version": "3.10.12"
  }
 },
 "nbformat": 4,
 "nbformat_minor": 4
}
